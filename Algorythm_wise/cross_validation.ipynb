{
 "cells": [
  {
   "cell_type": "markdown",
   "metadata": {},
   "source": [
    "# Cross Validation\n",
    "\n",
    "* _Leave one out CV ( LOOCV )_\n",
    "    * complexity increasing ( nower used)\n",
    "    * overfiting\n",
    "* _Leave P out CV ( LPOCV )_ - P value will be given\n",
    "* _Key Fold CV_ - k times data will be divided and sent to the validation\n",
    "* _Stratified K fold CV_ - equal amount of 0 and 1 are present (Binary classification) and folows key fold CV\n",
    "* _Time series CV_ - Time Series Application\n",
    "    * Product sentiment analysis"
   ]
  },
  {
   "cell_type": "code",
   "execution_count": null,
   "metadata": {},
   "outputs": [],
   "source": []
  }
 ],
 "metadata": {
  "language_info": {
   "name": "python"
  }
 },
 "nbformat": 4,
 "nbformat_minor": 2
}
